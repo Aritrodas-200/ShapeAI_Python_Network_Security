{
  "nbformat": 4,
  "nbformat_minor": 0,
  "metadata": {
    "colab": {
      "name": "Aritro_Das.ipynb",
      "provenance": []
    },
    "kernelspec": {
      "name": "python3",
      "display_name": "Python 3"
    },
    "language_info": {
      "name": "python"
    }
  },
  "cells": [
    {
      "cell_type": "code",
      "metadata": {
        "colab": {
          "base_uri": "https://localhost:8080/"
        },
        "id": "HBq7V13NwnQl",
        "outputId": "891b9163-a4e6-47b2-a705-32821a1ff32d"
      },
      "source": [
        "#Project 1\n",
        "import hashlib\n",
        "#print(hashlib.algorithms_available)\n",
        "String = input(\"Enter any string: \")\n",
        "hashed_string_md5 = hashlib.md5(String.encode())\n",
        "print(\"Hashed string is\",hashed_string_md5.hexdigest())\n",
        "\n",
        "#Project 2\n",
        "String_1 = input(\"Enter any string to hash it 3 times:\")\n",
        "String_1 = \"{}\".format(String_1)\n",
        "hashed_string_sha256 = hashlib.sha256(String_1.encode())\n",
        "String_2 = \"{}\".format(hashed_string_sha256.hexdigest())\n",
        "hashed_string_sha3_224 = hashlib.sha3_224(String_2.encode())\n",
        "String_3 = \"{}\".format(hashed_string_sha3_224.hexdigest())\n",
        "hashed_string_sha3_512 = hashlib.sha3_512(String_3.encode())\n",
        "print(\"String after hashing 3 times is \",hashed_string_sha3_512.hexdigest())\n",
        "\n",
        "#Project 3\n",
        "import uuid\n",
        "salt = uuid.uuid4().hex\n",
        "string = input(\"Enter any string to add salt and iteration:\")\n",
        "string = \"{}\".format(string)\n",
        "hashed_and_salted_string = hashlib.sha1((salt+string).encode())\n",
        "#print(hashed_and_salted_string.hexdigest())\n",
        "string_1 = \"{}\".format(hashed_and_salted_string.hexdigest())\n",
        "hashed_and_salted_string_1 = hashlib.sha1((salt+string_1).encode())\n",
        "string_2 = \"{}\".format(hashed_and_salted_string_1.hexdigest())\n",
        "hashed_and_salted_string_2 = hashlib.sha1((salt+string_2).encode())\n",
        "print(\"String after adding salt and iteration became:\",hashed_and_salted_string_2.hexdigest())\n"
      ],
      "execution_count": 59,
      "outputs": [
        {
          "output_type": "stream",
          "text": [
            "Enter any string: Aritro Das\n",
            "Hashed string is bb2c336351abd5c3100f838d4657dd07\n",
            "Enter any string to hash it 3 times:Aritro Das\n",
            "String after hashing 3 times is  48c8f1a68befd4c8cb600d1bfbfd032f5eee4c57ecbf9f53fbcacb2a7a4970586d93cf980ed1931dfabde07f57f551c5cd7373125807680da800fb60eaea2766\n",
            "Enter any string to add salt and iteration:Aritro Das\n",
            "String after adding salt and iteration became: 6916a5ceb5a9b4b28d49410a24ea958838e786c8\n"
          ],
          "name": "stdout"
        }
      ]
    }
  ]
}